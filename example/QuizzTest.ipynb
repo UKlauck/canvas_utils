{
 "cells": [
  {
   "cell_type": "code",
   "execution_count": 1,
   "metadata": {},
   "outputs": [],
   "source": [
    "from canvas_utils import *\n",
    "import numpy as np"
   ]
  },
  {
   "cell_type": "code",
   "execution_count": 2,
   "metadata": {},
   "outputs": [
    {
     "name": "stdout",
     "output_type": "stream",
     "text": [
      "Python 3.12.2\n"
     ]
    }
   ],
   "source": [
    "!python -V"
   ]
  },
  {
   "cell_type": "code",
   "execution_count": 3,
   "metadata": {},
   "outputs": [
    {
     "name": "stdout",
     "output_type": "stream",
     "text": [
      "Advanced Image Processing WS 23/24 - 31-56901 Advanced Image Processing (8146)\n",
      "Algorithmen und Datenstrukturen 1 Algorithmen und Datenstrukturen 1 (2434)\n",
      "Bildverarbeitung - SS 21 Bildverarbeitung - SS 21 (3869)\n",
      "Bildverarbeitung Bildverarbeitung - WS20/21 (2503)\n",
      "Bildverarbeitung und Mustererkennung - 31-57610/33-41862 Bildverarbeitung und Mustererkennung (4097)\n",
      "Data Analytics WS 23/24 - 30-28912/31-56201 Data Analytics (8145)\n",
      "Data Analytics - 31-56201 Data Analytics (4095)\n",
      "Data Analytics WiSe 22/23 - 30-28912/31-56201 Data Analytics (6407)\n",
      "Data Analytics Data Analytics - WS20/21 (2505)\n",
      "DigiExam für Lehrende DigiExam für Lehrende (1803)\n",
      "Gefährdungsbeurteilung Labore FEIN Gefährdungsbeurteilung Labore (1836)\n",
      "Informationen Elektronik/Informatik Informationen Elektronik/Informatik (3308)\n",
      "Machine Learning - 30-28905/31-56102 Machine Learning (4096)\n",
      "Machine Learning SoSe 24 - 30-28905/31-56102 Machine Learning (8595)\n",
      "30-28905 / 31-56102 Machine Learning & Deep Learning (5653)\n",
      "Machine Learning & Deep Learning Machine Learning & Deep Learning (1175)\n",
      "Machine Learning & Deep Learning SoSe 2023 - 31-56102 Machine Learning & Deep Learning (6847)\n",
      "Machine Learning & Deep Learning - SS 21 Machine Learning & Deep Learning - SS 21 (3870)\n",
      "Machine Learning & Deep Learning Machine Learning & Deep Learning - WS20/21 (2504)\n",
      "Master-Einführung Master-Einführung (1176)\n",
      "MazZ Material zum Zeitvertreib (1009)\n",
      "Neural Networks - Applications Neural Networks - Applications (485)\n",
      "Online-Erklaer-Videos Sammlung für Online-Erklär-Videos (1279)\n",
      "*** Problem printing info for course 3948\n"
     ]
    }
   ],
   "source": [
    "canvas = Canvas(config_section='Sites.HTW')\n",
    "canvas.list_courses()"
   ]
  },
  {
   "cell_type": "code",
   "execution_count": null,
   "metadata": {},
   "outputs": [],
   "source": [
    "course = canvas.get_course(8595)\n",
    "#course.delete_all_quizzes()        # <---- Achtung, kann gefährlich sein!"
   ]
  },
  {
   "cell_type": "code",
   "execution_count": null,
   "metadata": {},
   "outputs": [],
   "source": [
    "#\n",
    "# Global quiz parameters\n",
    "#\n",
    "\n",
    "date = '2023-11-07'\n",
    "\n",
    "unlock_time = date + 'T14:30A'           # A: Winterzeit, B: Sommerzeit\n",
    "due_time = date + 'T16:30A'\n",
    "lock_time = date + 'T16:35A'\n",
    "\n",
    "time_limit = 120\n",
    "\n",
    "quiz_type = 'assignment'       # 'practice_quiz', 'assignment', 'graded_survey'\n",
    "allowed_attempts = 1"
   ]
  },
  {
   "cell_type": "code",
   "execution_count": null,
   "metadata": {},
   "outputs": [],
   "source": [
    "title = 'Quiz Demo '"
   ]
  },
  {
   "cell_type": "code",
   "execution_count": null,
   "metadata": {},
   "outputs": [],
   "source": [
    "file_upload_text = '''\\\n",
    "You can upload a solution instead of using the editor field above. \\\n",
    "Don't hand in solutions in the editor and as an uploaded file at the same \n",
    "time. If you want to upload more than one page please create a multipage pdf. \n",
    "<br>Name your file according to the part, the question number and your name, e.g. Part1_Q1_Klauck'''\n",
    "\n",
    "notebook_upload_text = '''\\\n",
    "<p>Please upload your solution notebook.\n",
    "\n",
    "<br>IMPORTANT: Clear all output cells before uploading\n",
    "and name your notebook according to the part, the question number and your name, e.g. Part1_Q1_Klauck.ipynb</p>'''"
   ]
  },
  {
   "cell_type": "markdown",
   "metadata": {},
   "source": [
    "# Part I"
   ]
  },
  {
   "cell_type": "code",
   "execution_count": null,
   "metadata": {},
   "outputs": [],
   "source": [
    "q = course.create_quiz(title=title+' Part I', \n",
    "                       description='', \n",
    "                       quiz_type=quiz_type,\n",
    "                       due_at=due_time, lock_at=lock_time, unlock_at=unlock_time,\n",
    "                       time_limit=time_limit,\n",
    "                       allowed_attempts=allowed_attempts)"
   ]
  },
  {
   "cell_type": "code",
   "execution_count": null,
   "metadata": {},
   "outputs": [],
   "source": [
    "def net (w, theta):\n",
    "    for x1 in (0,1):\n",
    "        for x2 in (0,1):\n",
    "            y = w[0]*x1 + w[1]*x2 - theta\n",
    "            if y < 0: o = 0\n",
    "            else: o = 1\n",
    "\n",
    "            print('%2d %2d   %4.1f %2d'%(x1, x2, y, o))"
   ]
  },
  {
   "cell_type": "code",
   "execution_count": null,
   "metadata": {},
   "outputs": [],
   "source": [
    "q.new_quiz_group('G11', 1, 10)\n",
    "\n",
    "for w1, w2, theta, fun in (( 1, -1,  0.5, 'x1 and not x2'),\n",
    "                           (-1,  1,  0.5, 'not x1 and x2'),\n",
    "                           (-1, -1, -0.5, 'x1 nor x2'),\n",
    "                           ( 1, -1, -0.5, 'x1 or not x2'),\n",
    "                           (-1,  1, -0.5, 'not x1 or x2'),\n",
    "                           (-1, -1, -0.5, 'x1 nand x2')):\n",
    "    \n",
    "    q_text = f'''\\\n",
    "    Suppose you have a Perceptron with 2 inputs and 1 output.\n",
    "    The activation function is the function hard limiter, the Perceptron computes a logical function. \n",
    "    <br>The weights are w<sub>1</sub>={w1}, w<sub>2</sub>={w2}, \n",
    "    the threshold is Theta={theta}.\n",
    "    <br>\n",
    "    <ol>\n",
    "    <li>Please denotate the results for the different input combinations in a table.</li>\n",
    "    <li>Which logical function is computed by this Perceptron? Use symbols x1, x2, and, or, nand, nor, (, ), ... \n",
    "    for your answer.</li>\n",
    "    </ol>\n",
    "    '''\n",
    "\n",
    "    print(w1, w2, theta, ':  ', fun)\n",
    "    print('---------------------------')\n",
    "\n",
    "    q.new_essay_question('', q_text, 5, grouped=True)\n",
    "    net([w1,w2], theta)\n",
    "    print('\\n\\n')\n",
    "    \n",
    "q.new_file_upload_question('', file_upload_text, 0)"
   ]
  },
  {
   "cell_type": "code",
   "execution_count": null,
   "metadata": {},
   "outputs": [],
   "source": []
  },
  {
   "cell_type": "markdown",
   "metadata": {},
   "source": [
    "# Part II"
   ]
  },
  {
   "cell_type": "code",
   "execution_count": null,
   "metadata": {},
   "outputs": [],
   "source": [
    "q = course.create_quiz(title=title+' Part II', \n",
    "                       description='', \n",
    "                       quiz_type=quiz_type,\n",
    "                       due_at=due_time, lock_at=lock_time, unlock_at=unlock_time,\n",
    "                       time_limit=time_limit,\n",
    "                       allowed_attempts=allowed_attempts)"
   ]
  },
  {
   "cell_type": "code",
   "execution_count": null,
   "metadata": {},
   "outputs": [],
   "source": [
    "q.new_quiz_group('G21', 1, 10)\n",
    "\n",
    "for x1 in (2, 4, 6, 8):\n",
    "    for x2 in (2, 4, 6, 8):\n",
    "        q_text = f'''<p>What is the result of the addition {x1:d} + {x2:d}?</p>'''\n",
    "        q.new_numerical_question('', q_text,\n",
    "                                 answer=x1+x2,\n",
    "                                 errorMargin=0.02,\n",
    "                                 grouped=True)      "
   ]
  },
  {
   "cell_type": "markdown",
   "metadata": {},
   "source": [
    "# Part III"
   ]
  },
  {
   "cell_type": "code",
   "execution_count": null,
   "metadata": {},
   "outputs": [],
   "source": [
    "q = course.create_quiz(title=title+' Part III', \n",
    "                       description='', \n",
    "                       quiz_type=quiz_type,\n",
    "                       due_at=due_time, lock_at=lock_time, unlock_at=unlock_time,\n",
    "                       time_limit=time_limit,\n",
    "                       allowed_attempts=allowed_attempts)"
   ]
  },
  {
   "cell_type": "code",
   "execution_count": null,
   "metadata": {},
   "outputs": [],
   "source": [
    "q_text = '''\\\n",
    "<p>Realize the following neural network in Keras/Tensorflow:\n",
    "<br>\n",
    "<p>%IMAGE%</p>\n",
    "\n",
    "<p>Green nodes are input nodes, yellow nodes are hidden nodes and red nodes are output nodes.</p>\n",
    "\n",
    "<ol>\n",
    "<li>Rather than using the Sequential model please use the Keras way of explicitly specifying input and output tensors.</li>\n",
    "<li>Train the XOR-problem with your network.</li>\n",
    "<li>Setup your parameters so that your network fits your data in under 100 eopchs.</li>\n",
    "<li>Plot the learning curves for the loss function and the accuracy</li>\n",
    "\n",
    "\n",
    "</ol>\n",
    "</p>'''\n",
    "\n",
    "q.new_essay_question('', q_text, 5, image='S22_XOR.jpg')\n",
    "                  \n",
    "q.new_file_upload_question('', notebook_upload_text, 0)            "
   ]
  },
  {
   "cell_type": "markdown",
   "metadata": {},
   "source": [
    "# Part IV"
   ]
  },
  {
   "cell_type": "code",
   "execution_count": null,
   "metadata": {},
   "outputs": [],
   "source": [
    "q = course.create_quiz(title=title+' Part IV', \n",
    "                       description='', \n",
    "                       quiz_type=quiz_type,\n",
    "                       due_at=due_time, lock_at=lock_time, unlock_at=unlock_time,\n",
    "                       time_limit=time_limit,\n",
    "                       allowed_attempts=allowed_attempts)"
   ]
  },
  {
   "cell_type": "code",
   "execution_count": null,
   "metadata": {},
   "outputs": [],
   "source": [
    "q.new_quiz_group('', pick_count=2, points=2)"
   ]
  },
  {
   "cell_type": "code",
   "execution_count": null,
   "metadata": {},
   "outputs": [],
   "source": [
    "q_text = '''Suppose you have a Perceptron with the hard limiter as activation function. \n",
    "What happens, when you scale all weights by a positive factor?'''\n",
    "\n",
    "q.new_mc_question('', q_text,\n",
    "                  correct='The decision borders do not change, the decisions remain the same',\n",
    "                  wrong=['The decision borders do not change but the decisions will change',\n",
    "                         'The decision borders will change but the decisions remain the same', ],\n",
    "                  grouped=True)\n",
    "\n",
    "q_text = '''Suppose you have a Perceptron with a nonlinear activation function. Is this Perceptron able\n",
    "to separate a problem with a nonlinear decision boundary?'''\n",
    "\n",
    "q.new_mc_question('', q_text,\n",
    "                  correct='No',\n",
    "                  wrong=['Yes'],\n",
    "                  grouped=True)\n",
    "\n",
    "q_text = '''You want to train a Perceptron with a gradient descent algorithm. \n",
    "Which activation function would you prefer?'''\n",
    "\n",
    "q.new_mc_question('', q_text,\n",
    "                  correct='Linear activation function',\n",
    "                  wrong=['Hard limiter', 'Sign activation function'],\n",
    "                  grouped=True)\n",
    "\n",
    "\n",
    "q_text = '''What is one pass learning with a Perceptron?'''\n",
    "\n",
    "q.new_mc_question('', q_text,\n",
    "                  correct='Solving a linear equation system using the trainig data',\n",
    "                  wrong=['Stepping just once thru the training data set with a Backpropagation algorithm',\n",
    "                         'Stepping just once thru the training data set with a simple Gradient descent'],\n",
    "                  grouped=True)"
   ]
  },
  {
   "cell_type": "code",
   "execution_count": null,
   "metadata": {},
   "outputs": [],
   "source": []
  }
 ],
 "metadata": {
  "hide_input": false,
  "kernelspec": {
   "display_name": "Python 3 (ipykernel)",
   "language": "python",
   "name": "python3"
  },
  "language_info": {
   "codemirror_mode": {
    "name": "ipython",
    "version": 3
   },
   "file_extension": ".py",
   "mimetype": "text/x-python",
   "name": "python",
   "nbconvert_exporter": "python",
   "pygments_lexer": "ipython3",
   "version": "3.10.14"
  }
 },
 "nbformat": 4,
 "nbformat_minor": 4
}
